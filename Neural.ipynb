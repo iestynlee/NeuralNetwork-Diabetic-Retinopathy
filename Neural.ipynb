{
 "cells": [
  {
   "cell_type": "markdown",
   "id": "3abf1e35",
   "metadata": {},
   "source": [
    "# Importing"
   ]
  },
  {
   "cell_type": "code",
   "execution_count": 1,
   "id": "28c5813e",
   "metadata": {},
   "outputs": [],
   "source": [
    "import numpy as np\n",
    "import pandas as pd"
   ]
  },
  {
   "cell_type": "markdown",
   "id": "2e84486c",
   "metadata": {},
   "source": [
    "# Preprocessing"
   ]
  },
  {
   "cell_type": "code",
   "execution_count": 2,
   "id": "29a5efc5",
   "metadata": {},
   "outputs": [],
   "source": [
    "df = pd.read_csv('data.csv')"
   ]
  },
  {
   "cell_type": "code",
   "execution_count": 3,
   "id": "a9208b97",
   "metadata": {},
   "outputs": [],
   "source": [
    "data = df.values"
   ]
  },
  {
   "cell_type": "markdown",
   "id": "50bcca10",
   "metadata": {},
   "source": [
    "# Train and Test splits"
   ]
  },
  {
   "cell_type": "code",
   "execution_count": 4,
   "id": "cd347e62",
   "metadata": {},
   "outputs": [],
   "source": [
    "# Set the values for N, N1, and N2\n",
    "N = len(data)\n",
    "N1 = int(N * 0.8)  # 80% of data for training\n",
    "N2 = N - N1  # remaining 20% of data for testing"
   ]
  },
  {
   "cell_type": "code",
   "execution_count": 5,
   "id": "119a0e43",
   "metadata": {},
   "outputs": [],
   "source": [
    "# Shuffle the data randomly\n",
    "np.random.shuffle(data)\n",
    "\n",
    "# Split the data into training and testing sets\n",
    "X_train = data[:N1, :18]  # input training data\n",
    "y_train = data[:N1, 18:20]  # target output training data\n",
    "X_test = data[N2:, :18]  # input testing data\n",
    "y_test = data[N2:, 18:20]  # target output testing data"
   ]
  },
  {
   "cell_type": "markdown",
   "id": "8cfb4f53",
   "metadata": {},
   "source": [
    "# Hyperparameters"
   ]
  },
  {
   "cell_type": "code",
   "execution_count": 70,
   "id": "eab9a40a",
   "metadata": {},
   "outputs": [],
   "source": [
    "learning_rate = 0.001\n",
    "iterations = 1000\n",
    "\n",
    "# Input features\n",
    "input_size = 18\n",
    " \n",
    "# Hidden layers \n",
    "hidden_size = 20\n",
    " \n",
    "# Output layer\n",
    "output_size = 2\n",
    " \n",
    "results = pd.DataFrame(columns=[\"mse\", \"accuracy\"])"
   ]
  },
  {
   "cell_type": "markdown",
   "id": "f5c003a7",
   "metadata": {},
   "source": [
    "# Weights"
   ]
  },
  {
   "cell_type": "code",
   "execution_count": 71,
   "id": "851c042f",
   "metadata": {},
   "outputs": [],
   "source": [
    "# Hidden layer\n",
    "W1 = np.random.normal(scale=0.5, size=(input_size, hidden_size))   \n",
    "b1 = np.random.normal(hidden_size)\n",
    "\n",
    "# Output layer\n",
    "W2 = np.random.normal(scale=0.5, size=(hidden_size , output_size)) \n",
    "b2 = np.random.normal(output_size)"
   ]
  },
  {
   "cell_type": "markdown",
   "id": "efdf9d4e",
   "metadata": {},
   "source": [
    "# Helper Functions"
   ]
  },
  {
   "cell_type": "code",
   "execution_count": 72,
   "id": "ae772e0e",
   "metadata": {},
   "outputs": [],
   "source": [
    "# Define the sigmoid function\n",
    "def sigmoid(x):\n",
    "    return 1 / (1 + np.exp(-x))\n",
    "\n",
    "# MSE\n",
    "def mean_squared_error(y_pred, y_true):\n",
    "    return ((y_pred - y_true)**2).sum() / (2*y_pred.size)\n",
    "\n",
    "# Accuracy\n",
    "def accuracy(y_pred, y_true):\n",
    "    acc = y_pred.argmax(axis=1) == y_true.argmax(axis=1)\n",
    "    return acc.mean()\n",
    "\n",
    "# TPR\n",
    "def tpr(y_pred, y_true):\n",
    "    tpr = np.sum((y_true.argmax(axis=1) == 1) & (y_pred.argmax(axis=1) == 1)) / np.sum(y_true.argmax(axis=1) == 1)\n",
    "    return tpr\n",
    "\n",
    "# FPR\n",
    "def fpr(y_pred, y_true):\n",
    "    fpr = np.sum((y_true.argmax(axis=1) == 0) & (y_pred.argmax(axis=1) == 1)) / np.sum(y_true.argmax(axis=1) == 0)\n",
    "    return fpr"
   ]
  },
  {
   "cell_type": "markdown",
   "id": "04c12634",
   "metadata": {},
   "source": [
    "# BackPropogation"
   ]
  },
  {
   "cell_type": "code",
   "execution_count": 73,
   "id": "5cf77c2d",
   "metadata": {},
   "outputs": [],
   "source": [
    "\n",
    "\n",
    "for itr in range(iterations):    \n",
    "    # Implementing feedforward propagation on hidden layer\n",
    "    Z1 = np.dot(X_train, W1)\n",
    "    A1 = sigmoid(Z1)\n",
    " \n",
    "    # Implementing feed forward propagation on output layer\n",
    "    Z2 = np.dot(A1, W2)\n",
    "    A2 = sigmoid(Z2)\n",
    "    \n",
    "    # Calculating the error\n",
    "    mse = mean_squared_error(A2, y_train)\n",
    "    acc = accuracy(A2, y_train)\n",
    "    tp = tpr(A2, y_train)\n",
    "    fp = fpr(A2, y_train)\n",
    "    new_row = pd.DataFrame({\"mse\": [mse], \"accuracy\": [acc]})\n",
    "    results = pd.concat([results, new_row], ignore_index=True)\n",
    "     \n",
    "    # Backpropagation phase\n",
    "    E1 = A2 - y_train\n",
    "    dW1 = E1 * A2 * (1 - A2)\n",
    " \n",
    "    E2 = np.dot(dW1, W2.T)\n",
    "    dW2 = E2 * A1 * (1 - A1)\n",
    " \n",
    "    # Updating the weights\n",
    "    W2_update = np.dot(A1.T, dW1) / N\n",
    "    b2_update = np.mean(dW1, axis=0, keepdims=True)\n",
    "    W1_update = np.dot(X_train.T, dW2) / N\n",
    "    b1_update = np.mean(dW2, axis=0, keepdims=True)\n",
    "\n",
    "    W2 = W2 - learning_rate * W2_update\n",
    "    b2 = b2 - learning_rate * b2_update\n",
    "    W1 = W1 - learning_rate * W1_update\n",
    "    b1 = b1 - learning_rate * b1_update"
   ]
  },
  {
   "cell_type": "markdown",
   "id": "814472ae",
   "metadata": {},
   "source": [
    "# Results"
   ]
  },
  {
   "cell_type": "code",
   "execution_count": 74,
   "id": "c38b84dd",
   "metadata": {},
   "outputs": [
    {
     "data": {
      "text/plain": [
       "<AxesSubplot:title={'center':'Mean Squared Error'}>"
      ]
     },
     "execution_count": 74,
     "metadata": {},
     "output_type": "execute_result"
    },
    {
     "data": {
      "image/png": "[encoded data removed]",
      "text/plain": [
       "<Figure size 432x288 with 1 Axes>"
      ]
     },
     "metadata": {
      "needs_background": "light"
     },
     "output_type": "display_data"
    }
   ],
   "source": [
    "results.mse.plot(title=\"Mean Squared Error\")"
   ]
  },
  {
   "cell_type": "code",
   "execution_count": 75,
   "id": "11240b02",
   "metadata": {
    "scrolled": true
   },
   "outputs": [
    {
     "data": {
      "text/plain": [
       "<AxesSubplot:title={'center':'Accuracy'}>"
      ]
     },
     "execution_count": 75,
     "metadata": {},
     "output_type": "execute_result"
    },
    {
     "data": {
      "image/png": "[encoded data removed]",
      "text/plain": [
       "<Figure size 432x288 with 1 Axes>"
      ]
     },
     "metadata": {
      "needs_background": "light"
     },
     "output_type": "display_data"
    }
   ],
   "source": [
    "results.accuracy.plot(title=\"Accuracy\")"
   ]
  },
  {
   "cell_type": "code",
   "execution_count": 76,
   "id": "d53dd394",
   "metadata": {},
   "outputs": [
    {
     "name": "stdout",
     "output_type": "stream",
     "text": [
      "Accuracy: 0.6054347826086957\n"
     ]
    }
   ],
   "source": [
    "Z1 = np.dot(X_test, W1)\n",
    "A1 = sigmoid(Z1)\n",
    " \n",
    "Z2 = np.dot(A1, W2)\n",
    "A2 = sigmoid(Z2)\n",
    " \n",
    "acc = accuracy(A2, y_test)\n",
    "print(\"Accuracy: {}\".format(acc))"
   ]
  },
  {
   "cell_type": "code",
   "execution_count": 53,
   "id": "d4adf86d",
   "metadata": {},
   "outputs": [
    {
     "name": "stdout",
     "output_type": "stream",
     "text": [
      "True Positive Rate: 0.8553459119496856\n"
     ]
    }
   ],
   "source": [
    "Z1 = np.dot(X_test, W1)\n",
    "A1 = sigmoid(Z1)\n",
    "\n",
    "Z2 = np.dot(A1, W2)\n",
    "A2 = sigmoid(Z2)\n",
    "\n",
    "tp = tpr(A2, y_test)\n",
    "print(\"True Positive Rate: {}\".format(tp))"
   ]
  },
  {
   "cell_type": "code",
   "execution_count": 62,
   "id": "147b2f04",
   "metadata": {
    "scrolled": true
   },
   "outputs": [
    {
     "name": "stdout",
     "output_type": "stream",
     "text": [
      "False Positive Rate: 0.654485049833887\n"
     ]
    }
   ],
   "source": [
    "Z1 = np.dot(X_test, W1)\n",
    "A1 = sigmoid(Z1)\n",
    "\n",
    "Z2 = np.dot(A1, W2)\n",
    "A2 = sigmoid(Z2)\n",
    "\n",
    "fp = fpr(A2, y_test)\n",
    "print(\"False Positive Rate: {}\".format(fp))"
   ]
  },
  {
   "cell_type": "markdown",
   "id": "6410b756",
   "metadata": {},
   "source": [
    "# Using the Machine Learning Libraries"
   ]
  },
  {
   "cell_type": "code",
   "execution_count": 128,
   "id": "a22255cb",
   "metadata": {},
   "outputs": [],
   "source": [
    "from sklearn.model_selection import train_test_split\n",
    "from sklearn.neural_network import MLPClassifier\n",
    "from sklearn.metrics import precision_score, recall_score, f1_score, classification_report, accuracy_score, confusion_matrix, mean_squared_error\n",
    "import matplotlib.pyplot as plt"
   ]
  },
  {
   "cell_type": "markdown",
   "id": "cbde8606",
   "metadata": {},
   "source": [
    "# Preprocessing"
   ]
  },
  {
   "cell_type": "code",
   "execution_count": 129,
   "id": "76e1479a",
   "metadata": {},
   "outputs": [],
   "source": [
    "df2 = pd.read_csv('data.csv')"
   ]
  },
  {
   "cell_type": "code",
   "execution_count": 130,
   "id": "36542ece",
   "metadata": {},
   "outputs": [],
   "source": [
    "data2 = df2.values"
   ]
  },
  {
   "cell_type": "markdown",
   "id": "84729728",
   "metadata": {},
   "source": [
    "# Splits"
   ]
  },
  {
   "cell_type": "code",
   "execution_count": 208,
   "id": "86ab2002",
   "metadata": {},
   "outputs": [],
   "source": [
    "X = data2[:, :18]  # input data\n",
    "y = data2[:, 18:20]  # target output data"
   ]
  },
  {
   "cell_type": "code",
   "execution_count": 228,
   "id": "08c2bd51",
   "metadata": {},
   "outputs": [],
   "source": [
    "X_train, X_test, y_train, y_test = train_test_split(X, y, test_size=0.2)"
   ]
  },
  {
   "cell_type": "markdown",
   "id": "2c828aa1",
   "metadata": {},
   "source": [
    "# MLP"
   ]
  },
  {
   "cell_type": "code",
   "execution_count": 154,
   "id": "5ceac9ce",
   "metadata": {
    "scrolled": true
   },
   "outputs": [
    {
     "data": {
      "text/plain": [
       "MLPClassifier(hidden_layer_sizes=(20,), learning_rate_init=0.0001,\n",
       "              max_iter=10000)"
      ]
     },
     "execution_count": 154,
     "metadata": {},
     "output_type": "execute_result"
    }
   ],
   "source": [
    "# Create and train the MLP model\n",
    "model = MLPClassifier(hidden_layer_sizes=(20,), activation='logistic', solver='adam', max_iter=1000, learning_rate_init=0.001, learning_rate='constant')\n",
    "model.fit(X_train, y_train)"
   ]
  },
  {
   "cell_type": "code",
   "execution_count": 155,
   "id": "0fe90c6e",
   "metadata": {},
   "outputs": [],
   "source": [
    "# Predict on the test set\n",
    "y_pred = model.predict(X_test)"
   ]
  },
  {
   "cell_type": "markdown",
   "id": "5988cf30",
   "metadata": {},
   "source": [
    "# Results"
   ]
  },
  {
   "cell_type": "markdown",
   "id": "32989c7c",
   "metadata": {},
   "source": [
    "## MSE"
   ]
  },
  {
   "cell_type": "code",
   "execution_count": 156,
   "id": "5ae59bbe",
   "metadata": {
    "scrolled": true
   },
   "outputs": [
    {
     "name": "stdout",
     "output_type": "stream",
     "text": [
      "Mean Squared Error: 0.27\n"
     ]
    }
   ],
   "source": [
    "mse = mean_squared_error(y_test, y_pred)\n",
    "print(f\"Mean Squared Error: {mse:.2f}\")"
   ]
  },
  {
   "cell_type": "code",
   "execution_count": 157,
   "id": "d542256b",
   "metadata": {},
   "outputs": [
    {
     "data": {
      "image/png": "[encoded data removed]",
      "text/plain": [
       "<Figure size 432x288 with 1 Axes>"
      ]
     },
     "metadata": {
      "needs_background": "light"
     },
     "output_type": "display_data"
    }
   ],
   "source": [
    "# Plot the training loss versus iteration number\n",
    "plt.plot(model.loss_curve_)\n",
    "plt.xlabel('Iteration')\n",
    "plt.ylabel('Training loss (MSE)')\n",
    "plt.show()"
   ]
  },
  {
   "cell_type": "markdown",
   "id": "e9af0424",
   "metadata": {},
   "source": [
    "## Accuracy"
   ]
  },
  {
   "cell_type": "code",
   "execution_count": 158,
   "id": "379d6a6a",
   "metadata": {},
   "outputs": [],
   "source": [
    "y_test_bin = np.round(y_test) # convert to binary categorical variable\n",
    "y_pred_bin = np.round(y_pred)"
   ]
  },
  {
   "cell_type": "code",
   "execution_count": 159,
   "id": "75b9b020",
   "metadata": {},
   "outputs": [
    {
     "name": "stdout",
     "output_type": "stream",
     "text": [
      "Accuracy: 0.5324675324675324\n"
     ]
    }
   ],
   "source": [
    "accuracy = accuracy_score(y_test_bin, y_pred_bin)\n",
    "print(\"Accuracy: {}\".format(np.mean(accuracy)))"
   ]
  },
  {
   "cell_type": "markdown",
   "id": "d5b6f2db",
   "metadata": {},
   "source": [
    "## MLP Metrics"
   ]
  },
  {
   "cell_type": "code",
   "execution_count": 145,
   "id": "970d94ea",
   "metadata": {},
   "outputs": [],
   "source": [
    "# Compute confusion matrix, precision, recall, and f1-score\n",
    "conf_mat = confusion_matrix(y_test_bin.ravel(), y_pred_bin.ravel())\n",
    "precision = precision_score(y_test_bin.ravel(), y_pred_bin.ravel())\n",
    "recall = recall_score(y_test_bin.ravel(), y_pred_bin.ravel())\n",
    "f1 = f1_score(y_test_bin.ravel(), y_pred_bin.ravel())"
   ]
  },
  {
   "cell_type": "code",
   "execution_count": 68,
   "id": "7721c745",
   "metadata": {
    "scrolled": true
   },
   "outputs": [
    {
     "name": "stdout",
     "output_type": "stream",
     "text": [
      "Confusion matrix:\n",
      " [[218  44]\n",
      " [ 59 141]]\n",
      "\n",
      "Precision:  0.7621621621621621\n",
      "\n",
      "Recall:  0.705\n",
      "\n",
      "F1-score:  0.7324675324675325\n"
     ]
    }
   ],
   "source": [
    "# Print the results\n",
    "print(\"Confusion matrix:\\n\", conf_mat)\n",
    "print(\"\\nPrecision: \", precision)\n",
    "print(\"\\nRecall: \", recall)\n",
    "print(\"\\nF1-score: \", f1)"
   ]
  },
  {
   "cell_type": "code",
   "execution_count": 69,
   "id": "285d2191",
   "metadata": {
    "scrolled": true
   },
   "outputs": [
    {
     "name": "stdout",
     "output_type": "stream",
     "text": [
      "              precision    recall  f1-score   support\n",
      "\n",
      "         0.0       0.79      0.83      0.81       262\n",
      "         1.0       0.76      0.70      0.73       200\n",
      "\n",
      "    accuracy                           0.78       462\n",
      "   macro avg       0.77      0.77      0.77       462\n",
      "weighted avg       0.78      0.78      0.78       462\n",
      "\n"
     ]
    }
   ],
   "source": [
    "# Classification report\n",
    "report = classification_report(y_test_bin.ravel(), y_pred_bin.ravel())\n",
    "print(report)"
   ]
  },
  {
   "cell_type": "markdown",
   "id": "77e82e00",
   "metadata": {},
   "source": [
    "# Decision Tree"
   ]
  },
  {
   "cell_type": "code",
   "execution_count": 101,
   "id": "a32555f3",
   "metadata": {},
   "outputs": [],
   "source": [
    "from sklearn.tree import DecisionTreeClassifier"
   ]
  },
  {
   "cell_type": "code",
   "execution_count": 316,
   "id": "569477cb",
   "metadata": {},
   "outputs": [
    {
     "data": {
      "text/plain": [
       "DecisionTreeClassifier(max_depth=9)"
      ]
     },
     "execution_count": 316,
     "metadata": {},
     "output_type": "execute_result"
    }
   ],
   "source": [
    "clf = DecisionTreeClassifier(max_depth=7)\n",
    "clf.fit(X_train, y_train)"
   ]
  },
  {
   "cell_type": "code",
   "execution_count": 317,
   "id": "b7f7a65d",
   "metadata": {},
   "outputs": [],
   "source": [
    "y_pred_clf = clf.predict(X_test)"
   ]
  },
  {
   "cell_type": "code",
   "execution_count": 318,
   "id": "a817b39f",
   "metadata": {
    "scrolled": true
   },
   "outputs": [
    {
     "name": "stdout",
     "output_type": "stream",
     "text": [
      "Accuracy score: 0.4762\n"
     ]
    }
   ],
   "source": [
    "# Calculate the accuracy score\n",
    "acc_score = accuracy_score(y_test, y_pred_clf)\n",
    "print(f\"Accuracy score: {acc_score:.4f}\")"
   ]
  }
 ],
 "metadata": {
  "kernelspec": {
   "display_name": "Python 3 (ipykernel)",
   "language": "python",
   "name": "python3"
  },
  "language_info": {
   "codemirror_mode": {
    "name": "ipython",
    "version": 3
   },
   "file_extension": ".py",
   "mimetype": "text/x-python",
   "name": "python",
   "nbconvert_exporter": "python",
   "pygments_lexer": "ipython3",
   "version": "3.9.12"
  }
 },
 "nbformat": 4,
 "nbformat_minor": 5
}
